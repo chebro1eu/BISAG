{
 "cells": [
  {
   "cell_type": "markdown",
   "id": "7ec59225",
   "metadata": {},
   "source": [
    "Univariate Parameter Detection"
   ]
  },
  {
   "cell_type": "code",
   "execution_count": 1,
   "id": "5fecf182",
   "metadata": {},
   "outputs": [],
   "source": [
    "import pandas as pd \n",
    "import numpy as np \n",
    "import math as mt\n",
    "from sklearn.ensemble import IsolationForest\n",
    "import matplotlib.pyplot as plt\n",
    "from sklearn.neighbors import LocalOutlierFactor\n",
    "failure_data = r'C:\\Users\\Niranjan\\Desktop\\BISAG\\machine failed\\cleaned_data.csv'\n",
    "dataset = pd.read_csv(failure_data)\n",
    "df = dataset\n",
    "df2 = pd.DataFrame(df)\n",
    "df2[\"Date\"] = df2['Date'].astype(str) + \"  \" + df2['Time'].astype(str)\n",
    "df2['Date']= pd.to_datetime(df2['Date'], format='%d-%m-%Y %H:%M:%S')\n",
    "df2 = df2.drop(['Time'],axis = 1)\n",
    "df3=df2\n",
    "df2 = df2.set_index(\"Date\")\n",
    "data = df2"
   ]
  },
  {
   "cell_type": "code",
   "execution_count": 2,
   "id": "f7b292bf",
   "metadata": {},
   "outputs": [],
   "source": [
    "data = data[\"Eqp1 Load(%)\"]"
   ]
  },
  {
   "cell_type": "code",
   "execution_count": 3,
   "id": "92226b4f",
   "metadata": {},
   "outputs": [],
   "source": [
    "data = np.array(data)\n",
    "data = data.reshape(-1,1)"
   ]
  },
  {
   "cell_type": "code",
   "execution_count": 6,
   "id": "a9531833",
   "metadata": {},
   "outputs": [
    {
     "name": "stdout",
     "output_type": "stream",
     "text": [
      "Anomalies found:\n",
      "Data point 2021-10-22 16:00:00 is an anomaly:\n",
      "Data point 2021-10-22 17:00:00 is an anomaly:\n",
      "Data point 2021-10-26 23:00:00 is an anomaly:\n",
      "Data point 2021-10-27 00:00:00 is an anomaly:\n",
      "Data point 2021-11-12 04:00:00 is an anomaly:\n",
      "Data point 2021-11-12 05:00:00 is an anomaly:\n",
      "Data point 2021-11-12 06:00:00 is an anomaly:\n",
      "Data point 2021-11-20 22:00:00 is an anomaly:\n",
      "Data point 2021-11-20 23:00:00 is an anomaly:\n",
      "Data point 2021-11-21 00:00:00 is an anomaly:\n",
      "Data point 2022-06-21 08:00:00 is an anomaly:\n",
      "Data point 2022-06-30 12:00:00 is an anomaly:\n"
     ]
    }
   ],
   "source": [
    "model = IsolationForest(contamination=0.01)\n",
    "model.fit(data)\n",
    "\n",
    "predictions = model.predict(data)\n",
    "\n",
    "print(\"Anomalies found:\")\n",
    "for i, anomaly in enumerate(predictions):\n",
    "    if anomaly == -1:\n",
    "        original_data_point = data[i][0]  # Retrieve the original data point\n",
    "        index_value = df2.index[i]  # Retrieve the index value\n",
    "        print(f\"Data point {index_value} is an anomaly:\")"
   ]
  },
  {
   "cell_type": "code",
   "execution_count": 8,
   "id": "2f72b7ab",
   "metadata": {},
   "outputs": [
    {
     "name": "stdout",
     "output_type": "stream",
     "text": [
      "Anomalies found:\n"
     ]
    }
   ],
   "source": [
    "data2=df2[\"Eqp1 Pressure1(bar)\"]\n",
    "data2 = np.array(data2)\n",
    "data2 = data2.reshape(-1,1)\n",
    "model = IsolationForest(contamination=0.01)\n",
    "model.fit(data2)\n",
    "\n",
    "predictions = model.predict(data2)\n",
    "\n",
    "print(\"Anomalies found:\")\n",
    "for i, anomaly in enumerate(predictions):\n",
    "    if anomaly == -1:\n",
    "        original_data_point = data2[i][0]  # Retrieve the original data point\n",
    "        index_value = df2.index[i]  # Retrieve the index value\n",
    "        print(f\"Data point {index_value} is an anomaly:\")"
   ]
  },
  {
   "cell_type": "code",
   "execution_count": 56,
   "id": "46bf99d7",
   "metadata": {},
   "outputs": [
    {
     "name": "stdout",
     "output_type": "stream",
     "text": [
      "Anomalies found:\n",
      "Data point 2021-11-25 17:00:00 is an anomaly:\n",
      "Data point 2021-11-25 18:00:00 is an anomaly:\n",
      "Data point 2021-11-25 19:00:00 is an anomaly:\n",
      "Data point 2022-01-25 12:00:00 is an anomaly:\n",
      "Data point 2022-01-25 13:00:00 is an anomaly:\n",
      "Data point 2022-01-25 14:00:00 is an anomaly:\n",
      "Data point 2022-01-25 15:00:00 is an anomaly:\n",
      "Data point 2022-01-25 16:00:00 is an anomaly:\n",
      "Data point 2022-01-25 17:00:00 is an anomaly:\n",
      "Data point 2022-01-25 18:00:00 is an anomaly:\n",
      "Data point 2022-01-25 19:00:00 is an anomaly:\n",
      "Data point 2022-01-25 20:00:00 is an anomaly:\n",
      "Data point 2022-01-25 21:00:00 is an anomaly:\n",
      "Data point 2022-01-25 22:00:00 is an anomaly:\n",
      "Data point 2022-05-11 09:00:00 is an anomaly:\n",
      "Data point 2022-06-25 21:00:00 is an anomaly:\n",
      "Data point 2022-06-25 22:00:00 is an anomaly:\n",
      "Data point 2022-06-25 23:00:00 is an anomaly:\n",
      "Data point 2022-06-30 04:00:00 is an anomaly:\n",
      "Data point 2022-06-30 05:00:00 is an anomaly:\n",
      "Data point 2022-06-30 06:00:00 is an anomaly:\n",
      "Data point 2022-06-30 07:00:00 is an anomaly:\n",
      "Data point 2022-06-30 12:00:00 is an anomaly:\n",
      "Data point 2022-08-08 07:00:00 is an anomaly:\n",
      "Data point 2022-08-08 08:00:00 is an anomaly:\n",
      "Data point 2022-08-08 09:00:00 is an anomaly:\n",
      "Data point 2022-08-08 10:00:00 is an anomaly:\n",
      "Data point 2022-08-08 11:00:00 is an anomaly:\n",
      "Data point 2022-08-08 12:00:00 is an anomaly:\n"
     ]
    }
   ],
   "source": [
    "data3=df2[\"Eqp1 Pressure2(bar)\"]\n",
    "data3 = np.array(data3)\n",
    "data3 = data3.reshape(-1,1)\n",
    "model = IsolationForest(contamination=0.01)\n",
    "model.fit(data3)\n",
    "\n",
    "predictions = model.predict(data3)\n",
    "\n",
    "print(\"Anomalies found:\")\n",
    "for i, anomaly in enumerate(predictions):\n",
    "    if anomaly == -1:\n",
    "        original_data_point = data3[i][0]  # Retrieve the original data point\n",
    "        index_value = df2.index[i]  # Retrieve the index value\n",
    "        print(f\"Data point {index_value} is an anomaly:\")"
   ]
  },
  {
   "cell_type": "code",
   "execution_count": 9,
   "id": "8a97218f",
   "metadata": {},
   "outputs": [
    {
     "name": "stdout",
     "output_type": "stream",
     "text": [
      "Anomalies found:\n",
      "Data point 2021-09-22 23:00:00 is an anomaly:\n",
      "Data point 2021-09-23 00:00:00 is an anomaly:\n",
      "Data point 2021-11-11 01:00:00 is an anomaly:\n",
      "Data point 2022-01-25 16:00:00 is an anomaly:\n",
      "Data point 2022-01-25 17:00:00 is an anomaly:\n",
      "Data point 2022-01-25 18:00:00 is an anomaly:\n",
      "Data point 2022-01-25 19:00:00 is an anomaly:\n",
      "Data point 2022-01-25 20:00:00 is an anomaly:\n",
      "Data point 2022-01-25 21:00:00 is an anomaly:\n",
      "Data point 2022-01-25 22:00:00 is an anomaly:\n",
      "Data point 2022-05-11 09:00:00 is an anomaly:\n",
      "Data point 2022-06-16 09:00:00 is an anomaly:\n",
      "Data point 2022-06-16 10:00:00 is an anomaly:\n",
      "Data point 2022-06-16 11:00:00 is an anomaly:\n",
      "Data point 2022-06-16 12:00:00 is an anomaly:\n",
      "Data point 2022-06-18 14:00:00 is an anomaly:\n",
      "Data point 2022-06-18 15:00:00 is an anomaly:\n",
      "Data point 2022-06-18 22:00:00 is an anomaly:\n",
      "Data point 2022-06-18 23:00:00 is an anomaly:\n",
      "Data point 2022-06-19 03:00:00 is an anomaly:\n",
      "Data point 2022-06-19 04:00:00 is an anomaly:\n",
      "Data point 2022-06-19 05:00:00 is an anomaly:\n",
      "Data point 2022-06-19 06:00:00 is an anomaly:\n",
      "Data point 2022-06-19 07:00:00 is an anomaly:\n",
      "Data point 2022-06-30 04:00:00 is an anomaly:\n",
      "Data point 2022-06-30 05:00:00 is an anomaly:\n",
      "Data point 2022-06-30 06:00:00 is an anomaly:\n",
      "Data point 2022-06-30 07:00:00 is an anomaly:\n",
      "Data point 2022-06-30 12:00:00 is an anomaly:\n",
      "Data point 2022-07-07 05:00:00 is an anomaly:\n",
      "Data point 2022-07-07 08:00:00 is an anomaly:\n",
      "Data point 2022-07-07 09:00:00 is an anomaly:\n",
      "Data point 2022-07-07 10:00:00 is an anomaly:\n",
      "Data point 2022-07-07 11:00:00 is an anomaly:\n",
      "Data point 2022-07-07 12:00:00 is an anomaly:\n",
      "Data point 2022-07-07 13:00:00 is an anomaly:\n",
      "Data point 2022-07-07 14:00:00 is an anomaly:\n",
      "Data point 2022-07-07 15:00:00 is an anomaly:\n",
      "Data point 2022-08-06 18:00:00 is an anomaly:\n"
     ]
    }
   ],
   "source": [
    "data4 = df2[\"Eqp1 Supply Of oil Pressure(bar) \"]\n",
    "data4 = np.array(data4)\n",
    "data4 = data4.reshape(-1,1)\n",
    "model = IsolationForest(contamination=0.015)\n",
    "model.fit(data4)\n",
    "\n",
    "predictions = model.predict(data4)\n",
    "\n",
    "print(\"Anomalies found:\")\n",
    "for i, anomaly in enumerate(predictions):\n",
    "    if anomaly == -1:\n",
    "        original_data_point = data4[i][0]  # Retrieve the original data point\n",
    "        index_value = df2.index[i]  # Retrieve the index value\n",
    "        print(f\"Data point {index_value} is an anomaly:\")"
   ]
  },
  {
   "cell_type": "code",
   "execution_count": 13,
   "id": "a32c74e4",
   "metadata": {},
   "outputs": [
    {
     "name": "stdout",
     "output_type": "stream",
     "text": [
      "Anomalies found:\n",
      "Data point 2021-09-27 20:00:00 is an anomaly:\n",
      "Data point 2021-09-27 21:00:00 is an anomaly:\n",
      "Data point 2021-09-27 22:00:00 is an anomaly:\n",
      "Data point 2021-09-27 23:00:00 is an anomaly:\n",
      "Data point 2021-10-03 19:00:00 is an anomaly:\n",
      "Data point 2021-10-12 23:00:00 is an anomaly:\n",
      "Data point 2021-10-13 00:00:00 is an anomaly:\n",
      "Data point 2022-05-15 13:00:00 is an anomaly:\n",
      "Data point 2022-05-15 14:00:00 is an anomaly:\n",
      "Data point 2022-05-15 15:00:00 is an anomaly:\n",
      "Data point 2022-05-15 16:00:00 is an anomaly:\n",
      "Data point 2022-05-15 17:00:00 is an anomaly:\n",
      "Data point 2022-05-15 18:00:00 is an anomaly:\n",
      "Data point 2022-05-15 19:00:00 is an anomaly:\n",
      "Data point 2022-05-15 20:00:00 is an anomaly:\n",
      "Data point 2022-05-15 21:00:00 is an anomaly:\n",
      "Data point 2022-05-15 23:00:00 is an anomaly:\n",
      "Data point 2022-06-16 00:00:00 is an anomaly:\n",
      "Data point 2022-08-10 07:00:00 is an anomaly:\n",
      "Data point 2022-08-10 08:00:00 is an anomaly:\n",
      "Data point 2022-08-10 09:00:00 is an anomaly:\n",
      "Data point 2022-08-10 10:00:00 is an anomaly:\n",
      "Data point 2022-08-10 11:00:00 is an anomaly:\n",
      "Data point 2022-08-10 12:00:00 is an anomaly:\n"
     ]
    }
   ],
   "source": [
    "data5 = df2[\"Eqp1 Temp1(degree)\"]\n",
    "data5 = np.array(data5)\n",
    "data5 = data5.reshape(-1,1)\n",
    "model = IsolationForest(contamination=0.01)\n",
    "model.fit(data5)\n",
    "\n",
    "predictions = model.predict(data5)\n",
    "\n",
    "print(\"Anomalies found:\")\n",
    "for i, anomaly in enumerate(predictions):\n",
    "    if anomaly == -1:\n",
    "        original_data_point = data5[i][0]  # Retrieve the original data point\n",
    "        index_value = df2.index[i]  # Retrieve the index value\n",
    "        print(f\"Data point {index_value} is an anomaly:\")"
   ]
  },
  {
   "cell_type": "code",
   "execution_count": 41,
   "id": "db7322e9",
   "metadata": {},
   "outputs": [
    {
     "name": "stdout",
     "output_type": "stream",
     "text": [
      "Anomalies found:\n",
      "Data point 2021-09-21 17:00:00 is an anomaly:\n",
      "Data point 2021-09-21 18:00:00 is an anomaly:\n",
      "Data point 2021-09-21 19:00:00 is an anomaly:\n",
      "Data point 2021-09-21 20:00:00 is an anomaly:\n",
      "Data point 2021-09-21 21:00:00 is an anomaly:\n",
      "Data point 2021-09-21 22:00:00 is an anomaly:\n",
      "Data point 2021-09-21 23:00:00 is an anomaly:\n",
      "Data point 2021-09-22 00:00:00 is an anomaly:\n",
      "Data point 2021-09-22 01:00:00 is an anomaly:\n",
      "Data point 2021-09-22 02:00:00 is an anomaly:\n",
      "Data point 2021-09-22 03:00:00 is an anomaly:\n",
      "Data point 2021-09-23 00:00:00 is an anomaly:\n",
      "Data point 2021-10-13 06:00:00 is an anomaly:\n",
      "Data point 2021-10-13 07:00:00 is an anomaly:\n",
      "Data point 2021-10-13 08:00:00 is an anomaly:\n",
      "Data point 2021-10-13 09:00:00 is an anomaly:\n",
      "Data point 2021-10-13 10:00:00 is an anomaly:\n",
      "Data point 2021-10-13 11:00:00 is an anomaly:\n",
      "Data point 2021-10-13 12:00:00 is an anomaly:\n",
      "Data point 2021-10-13 13:00:00 is an anomaly:\n",
      "Data point 2021-10-13 14:00:00 is an anomaly:\n",
      "Data point 2021-10-13 15:00:00 is an anomaly:\n",
      "Data point 2021-10-13 16:00:00 is an anomaly:\n",
      "Data point 2021-10-13 17:00:00 is an anomaly:\n",
      "Data point 2021-10-13 18:00:00 is an anomaly:\n",
      "Data point 2021-10-13 19:00:00 is an anomaly:\n",
      "Data point 2021-10-13 20:00:00 is an anomaly:\n",
      "Data point 2021-10-13 21:00:00 is an anomaly:\n",
      "Data point 2021-10-13 22:00:00 is an anomaly:\n",
      "Data point 2022-06-22 00:00:00 is an anomaly:\n"
     ]
    }
   ],
   "source": [
    "data5 = df2[\"Eqp3 Incoming Pressure(bar)\"]\n",
    "data5 = np.array(data5)\n",
    "data5 = data5.reshape(-1,1)\n",
    "model = IsolationForest(contamination=0.015)\n",
    "model.fit(data5)\n",
    "\n",
    "predictions = model.predict(data5)\n",
    "\n",
    "print(\"Anomalies found:\")\n",
    "for i, anomaly in enumerate(predictions):\n",
    "    if anomaly == -1:\n",
    "        original_data_point = data5[i][0]  # Retrieve the original data point\n",
    "        index_value = df2.index[i]  # Retrieve the index value\n",
    "        print(f\"Data point {index_value} is an anomaly:\")"
   ]
  },
  {
   "cell_type": "markdown",
   "id": "f9796f58",
   "metadata": {},
   "source": [
    "Eqp1 oil temp sensor Oil level(mm) does not have anomalies under 0.01% of the data \n",
    "which is consistent for the other params"
   ]
  }
 ],
 "metadata": {
  "kernelspec": {
   "display_name": "Python 3 (ipykernel)",
   "language": "python",
   "name": "python3"
  },
  "language_info": {
   "codemirror_mode": {
    "name": "ipython",
    "version": 3
   },
   "file_extension": ".py",
   "mimetype": "text/x-python",
   "name": "python",
   "nbconvert_exporter": "python",
   "pygments_lexer": "ipython3",
   "version": "3.11.3"
  }
 },
 "nbformat": 4,
 "nbformat_minor": 5
}
